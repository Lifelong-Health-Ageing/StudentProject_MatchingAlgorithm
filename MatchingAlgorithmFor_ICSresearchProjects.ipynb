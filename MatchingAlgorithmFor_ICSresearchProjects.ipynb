{
  "nbformat": 4,
  "nbformat_minor": 0,
  "metadata": {
    "colab": {
      "provenance": [],
      "collapsed_sections": [],
      "authorship_tag": "ABX9TyND3ON7S68/LlWY5g/lzwdV",
      "include_colab_link": true
    },
    "kernelspec": {
      "name": "python3",
      "display_name": "Python 3"
    },
    "language_info": {
      "name": "python"
    }
  },
  "cells": [
    {
      "cell_type": "markdown",
      "metadata": {
        "id": "view-in-github",
        "colab_type": "text"
      },
      "source": [
        "<a href=\"https://colab.research.google.com/github/mrphys/UCL_ICS_researchProjects/blob/master/MatchingAlgorithmFor_ICSresearchProjects.ipynb\" target=\"_parent\"><img src=\"https://colab.research.google.com/assets/colab-badge.svg\" alt=\"Open In Colab\"/></a>"
      ]
    },
    {
      "cell_type": "markdown",
      "source": [
        "#Code used for matching UCL ICS students to research projects for the iBSc and MSc for 2022"
      ],
      "metadata": {
        "id": "rrBKNdwvpW7u"
      }
    },
    {
      "cell_type": "markdown",
      "source": [
        "Here we use a mathematical optimizer to 'best' match between the students choices to the research projects available.\n",
        "\n",
        "We have used Google's open source software suite for optimization, OR-Tools, which provides an MPSolver wrapper for solving linear programming and mixed integer programming problems.\n",
        "\n",
        "This is a mixed integer programming (MIP) problem\n",
        "Since the constraints are linear, this is  a linear optimization problem in which the solutions are required to be integers. \n",
        "\n",
        "More information about algorithm can be found here:\n",
        "https://developers.google.com/optimization/mip/mip_example\n",
        "\n",
        "We use the MIP solver 'SCIP' (Solving constraint integer problems). https://www.scipopt.org which is  currently one of the fastest non-commercial solvers for mixed integer programming.\n",
        "\n",
        "SCIP is a framework for Constraint Integer Programming oriented towards the needs of mathematical programming experts who want to have total control of the solution process and access detailed information down to the guts of the solver. \n",
        "\n",
        "In SCIP the problem is successively divided into smaller subproblems (branching) that are solved recursively.(details of the algorithm can be found here: https://www.scipopt.org/doc/html/WHATPROBLEMS.php )"
      ],
      "metadata": {
        "id": "z0-c7bshwGW5"
      }
    },
    {
      "cell_type": "code",
      "source": [
        "#Import some libraries\n",
        "\n",
        "!pip install ortools\n",
        "from ortools.linear_solver import pywraplp\n",
        "\n",
        "import numpy as np "
      ],
      "metadata": {
        "colab": {
          "base_uri": "https://localhost:8080/"
        },
        "id": "2lWzw7QzySbn",
        "outputId": "c0446166-a032-443a-e895-4ed260ce453c"
      },
      "execution_count": 1,
      "outputs": [
        {
          "output_type": "stream",
          "name": "stdout",
          "text": [
            "Looking in indexes: https://pypi.org/simple, https://us-python.pkg.dev/colab-wheels/public/simple/\n",
            "Requirement already satisfied: ortools in /usr/local/lib/python3.7/dist-packages (9.4.1874)\n",
            "Requirement already satisfied: numpy>=1.13.3 in /usr/local/lib/python3.7/dist-packages (from ortools) (1.21.6)\n",
            "Requirement already satisfied: absl-py>=0.13 in /usr/local/lib/python3.7/dist-packages (from ortools) (1.2.0)\n",
            "Requirement already satisfied: protobuf>=3.19.4 in /usr/local/lib/python3.7/dist-packages (from ortools) (4.21.5)\n"
          ]
        }
      ]
    },
    {
      "cell_type": "markdown",
      "source": [
        "THIS PART IS WHERE THE STUDENT IDs ARE ENTERED FOR THE COHORT AS WELL AS THEIR PROJECT CHOICES.\n",
        "\n",
        "Note: This needs editing for each new cohort/run"
      ],
      "metadata": {
        "id": "rLorUkgGyTdx"
      }
    },
    {
      "cell_type": "code",
      "source": [
        "# These are the Student ID's: one ID per student (in reality we use the UCL ID)\n",
        "\n",
        "studentIDs = [\n",
        "  1,\n",
        "  2,\n",
        "  3,\n",
        "  4,\n",
        "  5,\n",
        "  6,\n",
        "  7,\n",
        "  8,\n",
        "  9,\n",
        "  10,\n",
        "  11,\n",
        "  12,\n",
        "  13,\n",
        "  14,\n",
        "  15,\n",
        "  16,\n",
        "  17,\n",
        "  18,\n",
        "  19,\n",
        "  20,\n",
        "  21,\n",
        "  22,\n",
        "  23,\n",
        "  24,\n",
        "  25,\n",
        "  26,\n",
        "  27,\n",
        "  28,\n",
        "  29,\n",
        "  30,\n",
        "  31,\n",
        "  32,\n",
        "  33,\n",
        "]\n",
        "num_students = len(studentIDs)\n",
        "\n",
        "#These are the Students project choices (the number represets the project #ID). There should be one row per student above. Each student can have a different number of projects in their selection\n",
        "#This example is based on the student selections from 2021/22\n",
        "#Note: For 2022/23 students will have to select a minimum of 5 projects\n",
        "\n",
        "projectChoices = [\n",
        "  [69,\t70,\t64],\n",
        "  [21,\t36,\t69],\n",
        "  [12,\t64,\t65, 1, 2],\n",
        "  [13,\t30,\t32],\n",
        "  [20,\t21,\t61, 7],\n",
        "  [60,\t29,\t71],\n",
        "  [34,\t3,\t36],\n",
        "  [20,\t13,\t39],\n",
        "  [69,\t65,\t64],\n",
        "  [21,\t36,\t4],\n",
        "  [2,\t  45,\t21],\n",
        "  [21,\t20,\t32],\n",
        "  [13,\t37,\t60],\n",
        "  [68,\t37, 69,\t46],\n",
        "  [13,\t53,\t61],\n",
        "  [3,\t  69,\t46],\n",
        "  [21,\t20,\t67],\n",
        "  [30,\t32,\t31],\n",
        "  [35,\t45,\t34],\n",
        "  [1,\t  59,\t68],\n",
        "  [21,\t68, 12,\t30],\n",
        "  [6,\t  21,\t26],\n",
        "  [69,\t12,\t36],\n",
        "  [35,\t34,\t36],\n",
        "  [46,\t21,\t20],\n",
        "  [28,\t32,\t61, 69],\n",
        "  [61,\t13,\t37],\n",
        "  [36,\t4,\t2, 20],\n",
        "  [32,\t70,\t72],\n",
        "  [68,\t13,\t69],\n",
        "  [36,\t10,\t13],\n",
        "  [1,\t  70, 10,\t12],\n",
        "  [37,\t30,\t31],\n",
        "]\n",
        "\n",
        "# Here we do some checks on the data\n",
        "if( len(projectChoices) != num_students):\n",
        "  print(\"SOMETHING HAS GONE WRONG AS SIZE OF PROJECT CHOICES IS NOT EQUAL TO NUMBER OF STUDENTS!!!!\")\n",
        "  \n",
        "  raise RuntimeError('SOMETHING HAS GONE WRONG AS SIZE OF PROJECT CHOICES IS NOT EQUAL TO NUMBER OF STUDENTS!!!!')\n",
        "\n",
        "else:\n",
        "  print(\"\\n\\n ALL OK TO CONTINUE: num_students = \", num_students, \", Number of students in selection = \", len(projectChoices))\n"
      ],
      "metadata": {
        "colab": {
          "base_uri": "https://localhost:8080/"
        },
        "collapsed": true,
        "id": "K7vTcrBcgW3G",
        "outputId": "1223968c-25cc-4548-8ecd-e2506edcbc74"
      },
      "execution_count": 2,
      "outputs": [
        {
          "output_type": "stream",
          "name": "stdout",
          "text": [
            "\n",
            "\n",
            " ALL OK TO CONTINUE: num_students =  33 , Number of students in selection =  33\n"
          ]
        }
      ]
    },
    {
      "cell_type": "code",
      "source": [
        "# check no student has put less than 3 choices in!!\n",
        "\n",
        "minimumAllowedProjectSelected = 3\n",
        "\n",
        "for s in range(num_students):\n",
        "  currentSelection = projectChoices[s]\n",
        "\n",
        "  if len(currentSelection) < minimumAllowedProjectSelected:\n",
        "    print(\"WARNING: student \", s+1, \" (\", studentIDs[s], \") has not selected more than \", minimumAllowedProjectSelected, \" projects! CHECK BEOFRE YOU CONTINUE\")  \n",
        "\n",
        "    raise RuntimeError('SOMETHING HAS GONE WRONG: student ', s+1, ' (', studentIDs[s], ') has not selected more than ', minimumAllowedProjectSelected, ' projects! CHECK BEOFRE YOU CONTINUE')\n",
        "\n",
        "print(\"\\n\\n ALL OK TO CONTINUE: no projects are selected more than once by the same student\")    "
      ],
      "metadata": {
        "colab": {
          "base_uri": "https://localhost:8080/"
        },
        "id": "bexOlud2vfYb",
        "outputId": "c8962782-a281-4dad-c6fc-0468c7bf02fb"
      },
      "execution_count": 3,
      "outputs": [
        {
          "output_type": "stream",
          "name": "stdout",
          "text": [
            "\n",
            "\n",
            " ALL OK TO CONTINUE: no projects are selected more than once by the same student\n"
          ]
        }
      ]
    },
    {
      "cell_type": "code",
      "source": [
        "# check no student has put the same project number down more than once!\n",
        "\n",
        "for s in range(num_students):\n",
        "  currentSelection = projectChoices[s]\n",
        "\n",
        "  bDuplicatedProjects = 0\n",
        "  for p in range(len(currentSelection)):\n",
        "      for p2 in range(p-1):\n",
        "        if currentSelection[p] == currentSelection[p2]:\n",
        "          bDuplicatedProjects = 1\n",
        "\n",
        "  if bDuplicatedProjects == 1:\n",
        "    print(\"WARNING: student \", s+1, \" (\", studentIDs[s], \") has duplicated projects! CHECK BEOFRE YOU CONTINUE\")  \n",
        "\n",
        "    raise RuntimeError('SOMETHING HAS GONE WRONG: student ',s+1,' (ID: ',int(studentIDs[s]),') has duplicated projects! CHECK BEOFRE YOU CONTINUE') \n",
        "\n",
        "print(\"\\n\\n ALL OK TO CONTINUE: no projects are selected more than once by the same student\")       "
      ],
      "metadata": {
        "colab": {
          "base_uri": "https://localhost:8080/"
        },
        "id": "4tszrh2Jvza6",
        "outputId": "6ae3fb58-08a8-436c-8c82-42d0abd170d6"
      },
      "execution_count": 4,
      "outputs": [
        {
          "output_type": "stream",
          "name": "stdout",
          "text": [
            "\n",
            "\n",
            " ALL OK TO CONTINUE: no projects are selected more than once by the same student\n"
          ]
        }
      ]
    },
    {
      "cell_type": "code",
      "source": [
        "# For each of the projects proposed on the list, the supervisor specifies the maximum students they are able to take on this project\n",
        "# This information is used by the algorithm to ensure that some projects can be allocated to more than one student!\n",
        "\n",
        "#These are in the same order as the project numbers, so the first row is project #1, and the second row project #2, etc.\n",
        "\n",
        "maxNoStudentsPerProj = [\n",
        "  2,\n",
        "  2,\n",
        "  2,\n",
        "  2,\n",
        "  2,\n",
        "  3,\n",
        "  1,\n",
        "  1,\n",
        "  1,\n",
        "  1,\n",
        "  1,\n",
        "  3,\n",
        "  1,\n",
        "  1,\n",
        "  1,\n",
        "  1,\n",
        "  1,\n",
        "  1,\n",
        "  3,\n",
        "  1,\n",
        "  1,\n",
        "  1,\n",
        "  1,\n",
        "  1,\n",
        "  1,\n",
        "  3,\n",
        "  1,\n",
        "  1,\n",
        "  1,\n",
        "  1,\n",
        "  1,\n",
        "  3,\n",
        "  1,\n",
        "  1,\n",
        "  1,\n",
        "  2,\n",
        "  2,\n",
        "  1,\n",
        "  1,\n",
        "  1,\n",
        "  1,\n",
        "  1,\n",
        "  3,\n",
        "  1,\n",
        "  1,\n",
        "  1,\n",
        "  1,\n",
        "  3,\n",
        "  1,\n",
        "  1,\n",
        "  1,\n",
        "  1,\n",
        "  1,\n",
        "  1,\n",
        "  1,\n",
        "  3,\n",
        "  1,\n",
        "  1,\n",
        "  1,\n",
        "  1,\n",
        "  1,\n",
        "  3,\n",
        "  1,\n",
        "  1,\n",
        "  1,\n",
        "  1,\n",
        "  1,\n",
        "  2,\n",
        "  2,\n",
        "  1,\n",
        "  1,\n",
        "  1,\n",
        "]\n",
        "totalNoProjectsOffered = len(maxNoStudentsPerProj)"
      ],
      "metadata": {
        "id": "53UbZADjjG_d"
      },
      "execution_count": 5,
      "outputs": []
    },
    {
      "cell_type": "code",
      "source": [
        "# check no student has put the a poject number greater than the number of projects!\n",
        "\n",
        "maxProjVal = 0\n",
        "for s in range(num_students):\n",
        "  currentSelection = projectChoices[s]\n",
        "\n",
        "  if(max(currentSelection) > maxProjVal ):\n",
        "    maxProjVal = max(currentSelection)\n",
        "\n",
        "if totalNoProjectsOffered < maxProjVal:\n",
        "  print(\"SOMETHING HAS GONE WRONG AS MAXIMUM SELECTED PROJECT NUMBER IS HIGHER THAN NUMBER OF PROJECTS!!!!\")\n",
        "\n",
        "  raise RuntimeError('SOMETHING HAS GONE WRONG: maximum project number selected by a student is ',maxProjVal,' but total Number of Projects offered is ', totalNoProjectsOffered, '! CHECK BEOFRE YOU CONTINUE') \n",
        "\n",
        "else:\n",
        "  print(\"\\n\\n ALL OK TO CONTINUE: totalNoProjects = \", totalNoProjectsOffered, \", highest project number selected by any student = \", maxProjVal)\n"
      ],
      "metadata": {
        "colab": {
          "base_uri": "https://localhost:8080/"
        },
        "id": "stkFeXJZt5wa",
        "outputId": "68b052f5-4b51-43b1-81c1-b5f9e175625b"
      },
      "execution_count": 6,
      "outputs": [
        {
          "output_type": "stream",
          "name": "stdout",
          "text": [
            "\n",
            "\n",
            " ALL OK TO CONTINUE: totalNoProjects =  72 , highest project number selected by any student =  72\n"
          ]
        }
      ]
    },
    {
      "cell_type": "code",
      "source": [
        "# Create a 'weighing scheme' for the project selection\n",
        "## This weighting could be adapted to more heavily weight lower ranked projects\n",
        "weighting_1stChoice = 0\n",
        "weighting_2ndChoice = 1\n",
        "weighting_3rdChoice = 2\n",
        "weighting_4thChoice = 3\n",
        "weighting_5thChoice = 4\n",
        "weighting_6thChoice = 5\n",
        "weighting_7thChoice = 6\n",
        "weighting_8thChoice = 7\n",
        "weighting_other = 100\n",
        "\n",
        "# As this is a miminimzation problem, the higher ranked a project is then the lower the 'weighting'. \n",
        "\n",
        "# Then we creates an array which is size: [number of students x total number of projects]\n",
        "# This array is filled with value '100' from weighting_other, i.e. no students want any projects\n",
        "costs = np.full((num_students, totalNoProjectsOffered), weighting_other, dtype=int)\n",
        "\n",
        "# Then for each student:\n",
        "# the first choice project position in this array is set to value 0 (weighting_1stChoice)\n",
        "# the second choice project position in this array is set to value 1 (weighting_2ndChoice)\n",
        "#etc\n",
        "\n",
        "# Note: This allows for a different number of selections by each student\n",
        "for s in range(num_students):\n",
        "  for p  in range(len(projectChoices[s])):\n",
        "    val = projectChoices[s][p]-1\n",
        "    \n",
        "    if p==0:\n",
        "      costs[s, val] = weighting_1stChoice\n",
        "    elif p==1:\n",
        "      costs[s, val] = weighting_2ndChoice\n",
        "    elif p==2:\n",
        "      costs[s, val] = weighting_3rdChoice\n",
        "    elif p==3:\n",
        "      costs[s, val] = weighting_4thChoice\n",
        "    elif p==4:\n",
        "      costs[s, val] = weighting_5thChoice\n",
        "    elif p==5:\n",
        "      costs[s, val] = weighting_6thChoice\n",
        "    elif p==6:\n",
        "      costs[s, val] = weighting_7thChoice\n",
        "    elif p==7:\n",
        "      costs[s, val] = weighting_8thChoice\n"
      ],
      "metadata": {
        "id": "0fZb7_09xpHQ"
      },
      "execution_count": 7,
      "outputs": []
    },
    {
      "cell_type": "code",
      "source": [
        "# We then create the mip solver with the SCIP backend.\n",
        "solver = pywraplp.Solver.CreateSolver('SCIP')\n",
        "\n",
        "if not solver:\n",
        "  print(\"ERROR!! no solver\")\n",
        "\n",
        "# The following code creates binary integer variables for the problem.\n",
        "\n",
        "# x[i, j] is an array of 0-1 variables, which will be 1\n",
        "# if student i is assigned to project j.\n",
        "x = {}\n",
        "for s in range(num_students):\n",
        "    for p in range(totalNoProjectsOffered):\n",
        "        x[s, p] = solver.IntVar(0, 1, '')\n",
        "\n",
        "# The following code creates the constraints for the problem.\n",
        " \n",
        " # Each student is assigned to exactly 1 project.\n",
        "for s in range(num_students):\n",
        "    solver.Add(solver.Sum([x[s, p] for p in range(totalNoProjectsOffered)]) == 1)\n",
        "\n",
        "# Each task is assigned to maximum number of students as stored in array 'maxNoStudentsPerProj'.\n",
        "for p in range(totalNoProjectsOffered):\n",
        "    solver.Add(solver.Sum([x[s, p] for s in range(num_students)]) <= maxNoStudentsPerProj[p])\n",
        "\n",
        "# The following code creates the objective function for the problem.\n",
        "objective_terms = []\n",
        "for s in range(num_students):\n",
        "    for p in range(totalNoProjectsOffered):\n",
        "        objective_terms.append(costs[s][p] * x[s, p])\n",
        "solver.Minimize(solver.Sum(objective_terms))\n",
        "\n",
        "# The value of the objective function is the total cost over all variables that are assigned the value 1 by the solver.\n",
        "\n",
        "# The following code invokes the solver.\n",
        "status = solver.Solve()\n",
        "\n",
        " # The following code prints the solution to the problem.\n",
        "\n",
        "if status == pywraplp.Solver.OPTIMAL or status == pywraplp.Solver.FEASIBLE:\n",
        "    print(f'Total cost = {solver.Objective().Value()}\\n\\n')\n",
        "    for s in range(num_students):\n",
        "        for p in range(totalNoProjectsOffered):\n",
        "            # Test if x[s,j] is 1 (with tolerance for floating point arithmetic).\n",
        "            if x[s, p].solution_value() > 0.5:\n",
        "              #print(f'STUDENT {s+1} (ID: {studentIDs[s]}) was assigned to project no. {p+1}.')\n",
        "              \n",
        "              if(costs[s][p] == weighting_1stChoice):\n",
        "                  print(f'STUDENT {s+1} (ID: {studentIDs[s]}) was assigned to project no. {p+1}.   This was their: first choice') # + f' , x[i, j].solution_value(): {x[i, j].solution_value()}')\n",
        "              elif(costs[s][p] == weighting_2ndChoice):\n",
        "                  print(f'STUDENT {s+1} (ID: {studentIDs[s]}) was assigned to project no. {p+1}.   This was their: second choice')\n",
        "              elif(costs[s][p] == weighting_3rdChoice):\n",
        "                  print(f'STUDENT {s+1} (ID: {studentIDs[s]}) was assigned to project no. {p+1}.   This was their: third choice')\n",
        "              elif(costs[s][p] == weighting_4thChoice):\n",
        "                  print(f'STUDENT {s+1} (ID: {studentIDs[s]}) was assigned to project no. {p+1}.   This was their: fourth choice')\n",
        "              elif(costs[s][p] == weighting_5thChoice):\n",
        "                  print(f'STUDENT {s+1} (ID: {studentIDs[s]}) was assigned to project no. {p+1}.   This was their: fifth choice')\n",
        "              elif(costs[s][p] == weighting_6thChoice):\n",
        "                  print(f'STUDENT {s+1} (ID: {studentIDs[s]}) was assigned to project no. {p+1}.   This was their: sixth choice')\n",
        "              elif(costs[s][p] == weighting_7thChoice):\n",
        "                  print(f'STUDENT {s+1} (ID: {studentIDs[s]}) was assigned to project no. {p+1}.   This was their: seventh choice')\n",
        "              elif(costs[s][p] == weighting_8thChoice):\n",
        "                  print(f'STUDENT {s+1} (ID: {studentIDs[s]}) was assigned to project no. {p+1}.   This was their: eighth choice')\n",
        "\n",
        "else:\n",
        "    print('No solution found.')\n",
        "    raise RuntimeError('SOMETHING HAS GONE WRONG: No solution found')"
      ],
      "metadata": {
        "colab": {
          "base_uri": "https://localhost:8080/"
        },
        "id": "Ymi4nU74jPKc",
        "outputId": "a396d154-bf16-4510-f056-78cc72774d8f"
      },
      "execution_count": 8,
      "outputs": [
        {
          "output_type": "stream",
          "name": "stdout",
          "text": [
            "Total cost = 14.0\n",
            "\n",
            "\n",
            "STUDENT 1 (ID: 1) was assigned to project no. 70.   This was their: second choice\n",
            "STUDENT 2 (ID: 2) was assigned to project no. 21.   This was their: first choice\n",
            "STUDENT 3 (ID: 3) was assigned to project no. 12.   This was their: first choice\n",
            "STUDENT 4 (ID: 4) was assigned to project no. 13.   This was their: first choice\n",
            "STUDENT 5 (ID: 5) was assigned to project no. 20.   This was their: first choice\n",
            "STUDENT 6 (ID: 6) was assigned to project no. 60.   This was their: first choice\n",
            "STUDENT 7 (ID: 7) was assigned to project no. 34.   This was their: first choice\n",
            "STUDENT 8 (ID: 8) was assigned to project no. 39.   This was their: third choice\n",
            "STUDENT 9 (ID: 9) was assigned to project no. 69.   This was their: first choice\n",
            "STUDENT 10 (ID: 10) was assigned to project no. 4.   This was their: third choice\n",
            "STUDENT 11 (ID: 11) was assigned to project no. 2.   This was their: first choice\n",
            "STUDENT 12 (ID: 12) was assigned to project no. 32.   This was their: third choice\n",
            "STUDENT 13 (ID: 13) was assigned to project no. 37.   This was their: second choice\n",
            "STUDENT 14 (ID: 14) was assigned to project no. 68.   This was their: first choice\n",
            "STUDENT 15 (ID: 15) was assigned to project no. 53.   This was their: second choice\n",
            "STUDENT 16 (ID: 16) was assigned to project no. 3.   This was their: first choice\n",
            "STUDENT 17 (ID: 17) was assigned to project no. 67.   This was their: third choice\n",
            "STUDENT 18 (ID: 18) was assigned to project no. 30.   This was their: first choice\n",
            "STUDENT 19 (ID: 19) was assigned to project no. 45.   This was their: second choice\n",
            "STUDENT 20 (ID: 20) was assigned to project no. 1.   This was their: first choice\n",
            "STUDENT 21 (ID: 21) was assigned to project no. 12.   This was their: third choice\n",
            "STUDENT 22 (ID: 22) was assigned to project no. 6.   This was their: first choice\n",
            "STUDENT 23 (ID: 23) was assigned to project no. 69.   This was their: first choice\n",
            "STUDENT 24 (ID: 24) was assigned to project no. 35.   This was their: first choice\n",
            "STUDENT 25 (ID: 25) was assigned to project no. 46.   This was their: first choice\n",
            "STUDENT 26 (ID: 26) was assigned to project no. 28.   This was their: first choice\n",
            "STUDENT 27 (ID: 27) was assigned to project no. 61.   This was their: first choice\n",
            "STUDENT 28 (ID: 28) was assigned to project no. 36.   This was their: first choice\n",
            "STUDENT 29 (ID: 29) was assigned to project no. 32.   This was their: first choice\n",
            "STUDENT 30 (ID: 30) was assigned to project no. 68.   This was their: first choice\n",
            "STUDENT 31 (ID: 31) was assigned to project no. 36.   This was their: first choice\n",
            "STUDENT 32 (ID: 32) was assigned to project no. 1.   This was their: first choice\n",
            "STUDENT 33 (ID: 33) was assigned to project no. 37.   This was their: first choice\n"
          ]
        }
      ]
    }
  ]
}